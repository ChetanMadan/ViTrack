{
 "cells": [
  {
   "cell_type": "code",
   "execution_count": null,
   "metadata": {
    "colab": {
     "base_uri": "https://localhost:8080/",
     "height": 36
    },
    "colab_type": "code",
    "id": "mJSAFMnsLNfg",
    "outputId": "3b5f891d-8677-427e-827c-272fe16b029a"
   },
   "outputs": [],
   "source": []
  },
  {
   "cell_type": "code",
   "execution_count": 1,
   "metadata": {
    "colab": {},
    "colab_type": "code",
    "id": "ZUslRXT8hKX4"
   },
   "outputs": [],
   "source": [
    "# Please enter path to folder containing all folds (Project_Data) and output folder path where result needs to be saved\n",
    "\n",
    "input_data_path = \"./Project_Data/\"\n",
    "output_path = \"./Prep_Data/\""
   ]
  },
  {
   "cell_type": "code",
   "execution_count": 2,
   "metadata": {
    "colab": {
     "base_uri": "https://localhost:8080/",
     "height": 36
    },
    "colab_type": "code",
    "id": "XOyca6F3K7gP",
    "outputId": "bd016770-90ff-43b1-d6b4-36fac400ac4c"
   },
   "outputs": [
    {
     "name": "stdout",
     "output_type": "stream",
     "text": [
      "42\n"
     ]
    }
   ],
   "source": [
    "# Read File Data and Return a list of dicts\n",
    "\n",
    "def readFile(filepath):\n",
    "  desc_list = [ \"RecordID\", \"Age\", \"Gender\", \"Height\", \"ICUType\", \"Weight\",\n",
    "             \"Albumin\", \"ALP\", \"ALT\", \"AST\", \"Bilirubin\", \"BUN\", \"Cholesterol\",\n",
    "             \"Creatinine\", \"DiasABP\", \"FiO2\", \"GCS\", \"Glucose\", \"HCO3\", \"HCT\",\n",
    "             \"HR\", \"K\", \"Lactate\", \"Mg\", \"MAP\", \"MechVent\", \"Na\", \"NIDiasABP\",\n",
    "             \"NIMAP\", \"NISysABP\", \"PaCO2\", \"PaO2\", \"pH\", \"Platelets\", \n",
    "             \"RespRate\", \"SaO2\", \"SysABP\", \"Temp\", \"TroponinI\", \"TroponinT\",\n",
    "             \"Urine\", \"WBC\"]\n",
    "  f = open(filepath, 'r')\n",
    "  rows = []\n",
    "  for row in f.readlines():\n",
    "\t  \trows.append(row)\n",
    "  # print(rows)\n",
    "\n",
    "  res = {}\n",
    "  # res[\"time\"] = []\n",
    "  for var in desc_list:\n",
    "    res[var] = []\n",
    "  for row in rows[1:]:\n",
    "    # p1[\"time\"].append(row.split(',')[0])\n",
    "    res[row.split(',')[1]].append([row.split(',')[0],row.rstrip().split(',')[2]])\n",
    "  \n",
    "  return res\n",
    "\n",
    "\n",
    "file_path = input_data_path + \"Fold1/132539.txt\"\n",
    "f = readFile(file_path)\n",
    "print(len(f))"
   ]
  },
  {
   "cell_type": "code",
   "execution_count": 3,
   "metadata": {
    "colab": {
     "base_uri": "https://localhost:8080/",
     "height": 206
    },
    "colab_type": "code",
    "id": "XT8ivSF0Mm4U",
    "outputId": "c5db84da-b318-4aac-f82c-18ad2ea21db7"
   },
   "outputs": [
    {
     "data": {
      "text/html": [
       "<div>\n",
       "<style scoped>\n",
       "    .dataframe tbody tr th:only-of-type {\n",
       "        vertical-align: middle;\n",
       "    }\n",
       "\n",
       "    .dataframe tbody tr th {\n",
       "        vertical-align: top;\n",
       "    }\n",
       "\n",
       "    .dataframe thead th {\n",
       "        text-align: right;\n",
       "    }\n",
       "</style>\n",
       "<table border=\"1\" class=\"dataframe\">\n",
       "  <thead>\n",
       "    <tr style=\"text-align: right;\">\n",
       "      <th></th>\n",
       "      <th>Attr_Name</th>\n",
       "      <th>time</th>\n",
       "      <th>Attr_Value</th>\n",
       "      <th>rid</th>\n",
       "    </tr>\n",
       "  </thead>\n",
       "  <tbody>\n",
       "    <tr>\n",
       "      <th>0</th>\n",
       "      <td>Age</td>\n",
       "      <td>00:00</td>\n",
       "      <td>54</td>\n",
       "      <td>132539</td>\n",
       "    </tr>\n",
       "    <tr>\n",
       "      <th>1</th>\n",
       "      <td>Gender</td>\n",
       "      <td>00:00</td>\n",
       "      <td>0</td>\n",
       "      <td>132539</td>\n",
       "    </tr>\n",
       "    <tr>\n",
       "      <th>2</th>\n",
       "      <td>Height</td>\n",
       "      <td>00:00</td>\n",
       "      <td>-1</td>\n",
       "      <td>132539</td>\n",
       "    </tr>\n",
       "    <tr>\n",
       "      <th>3</th>\n",
       "      <td>ICUType</td>\n",
       "      <td>00:00</td>\n",
       "      <td>4</td>\n",
       "      <td>132539</td>\n",
       "    </tr>\n",
       "    <tr>\n",
       "      <th>4</th>\n",
       "      <td>Weight</td>\n",
       "      <td>00:00</td>\n",
       "      <td>-1</td>\n",
       "      <td>132539</td>\n",
       "    </tr>\n",
       "  </tbody>\n",
       "</table>\n",
       "</div>"
      ],
      "text/plain": [
       "  Attr_Name   time Attr_Value     rid\n",
       "0       Age  00:00         54  132539\n",
       "1    Gender  00:00          0  132539\n",
       "2    Height  00:00         -1  132539\n",
       "3   ICUType  00:00          4  132539\n",
       "4    Weight  00:00         -1  132539"
      ]
     },
     "execution_count": 3,
     "metadata": {},
     "output_type": "execute_result"
    }
   ],
   "source": [
    "# File data to LF Dataframe\n",
    "\n",
    "import pandas as pd\n",
    "import copy \n",
    "\n",
    "def getLFDF(filedata):\n",
    "  rid = filedata['RecordID'][0][1]\n",
    "  # print(rid)\n",
    "\n",
    "  df = pd.DataFrame(columns=['Attr_Name', 'time', 'Attr_Value'])\n",
    "\n",
    "  for key, value in filedata.items():\n",
    "    # print(key, '->', value)\n",
    "\n",
    "    if key == 'RecordID':\n",
    "      continue\n",
    "    \n",
    "    if len(value) == 0:\n",
    "      df.loc[len(df)] = [key, 'NA', 'NA']\n",
    "      continue\n",
    "\n",
    "    temp_val = copy.deepcopy(value)\n",
    "    new_value = [[key] + x for x in temp_val]\n",
    "    # print(new_value)\n",
    "    df = df.append(pd.DataFrame(data=new_value, \n",
    "                                columns=['Attr_Name', 'time', 'Attr_Value']), \n",
    "                   ignore_index = True)\n",
    "  \n",
    "  df['rid'] = rid\n",
    "  return df\n",
    "    \n",
    "\n",
    "df = getLFDF(f)\n",
    "df.head()"
   ]
  },
  {
   "cell_type": "code",
   "execution_count": 4,
   "metadata": {
    "colab": {
     "base_uri": "https://localhost:8080/",
     "height": 36
    },
    "colab_type": "code",
    "id": "7qDHLHdSSI6S",
    "outputId": "b062f706-1770-498a-83b2-2baa0d094827"
   },
   "outputs": [
    {
     "name": "stdout",
     "output_type": "stream",
     "text": [
      "4000\n"
     ]
    }
   ],
   "source": [
    "# Get the list of file names\n",
    "\n",
    "import glob\n",
    "\n",
    "filepaths = []\n",
    "\n",
    "for i in range(1,5):\n",
    "  filepaths.extend(glob.glob(input_data_path + \"Fold\"+str(i)+\"/*.txt\"))\n",
    "\n",
    "print(len(filepaths))"
   ]
  },
  {
   "cell_type": "code",
   "execution_count": null,
   "metadata": {
    "colab": {
     "base_uri": "https://localhost:8080/",
     "height": 36
    },
    "colab_type": "code",
    "id": "WB_vq0WD2KKL",
    "outputId": "6c307831-6a01-4c79-8e2b-7daa4ba861c8"
   },
   "outputs": [],
   "source": [
    "# Get a list of LF Dataframes\n",
    "\n",
    "dfs = []\n",
    "\n",
    "for filepath in filepaths:\n",
    "  filedata = readFile(filepath)\n",
    "  dfs.append(getLFDF(filedata))\n",
    "\n",
    "len(dfs)"
   ]
  },
  {
   "cell_type": "code",
   "execution_count": null,
   "metadata": {
    "colab": {
     "base_uri": "https://localhost:8080/",
     "height": 36
    },
    "colab_type": "code",
    "id": "cUAST69w3NwN",
    "outputId": "80acd34c-bd19-4109-effe-6f9898ea2c73"
   },
   "outputs": [],
   "source": [
    "# Concat all LF dataframes into one result df\n",
    "\n",
    "res_df = dfs[0].copy()\n",
    "\n",
    "for i in range(1, len(dfs)):\n",
    "  res_df = res_df.append(dfs[i], ignore_index = True)\n",
    "\n",
    "res_df.shape"
   ]
  },
  {
   "cell_type": "code",
   "execution_count": null,
   "metadata": {
    "colab": {},
    "colab_type": "code",
    "id": "Q4jntsVK4n1e"
   },
   "outputs": [],
   "source": [
    "# Save the result\n",
    "\n",
    "res_df.to_csv(output_path + \"Viz_Data.csv\", index=False)"
   ]
  },
  {
   "cell_type": "code",
   "execution_count": null,
   "metadata": {},
   "outputs": [],
   "source": []
  }
 ],
 "metadata": {
  "colab": {
   "collapsed_sections": [],
   "name": "Viz_Data_Pipe.ipynb",
   "provenance": []
  },
  "kernelspec": {
   "display_name": "Python 3",
   "language": "python",
   "name": "python3"
  },
  "language_info": {
   "codemirror_mode": {
    "name": "ipython",
    "version": 3
   },
   "file_extension": ".py",
   "mimetype": "text/x-python",
   "name": "python",
   "nbconvert_exporter": "python",
   "pygments_lexer": "ipython3",
   "version": "3.6.9"
  }
 },
 "nbformat": 4,
 "nbformat_minor": 1
}
